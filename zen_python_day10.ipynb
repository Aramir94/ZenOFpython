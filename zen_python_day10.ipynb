{
 "cells": [
  {
   "cell_type": "markdown",
   "id": "164d24f9",
   "metadata": {},
   "source": [
    "# Decorators"
   ]
  },
  {
   "cell_type": "markdown",
   "id": "19a55b3f",
   "metadata": {},
   "source": [
    "데코레이터란 기능의 확장을 현제 가지고 있는 함수의 수정 없이 하는 기능 \n",
    "\n",
    "- Function Decorator\n",
    "- Class decorators"
   ]
  },
  {
   "cell_type": "markdown",
   "id": "cbe55dea",
   "metadata": {},
   "source": [
    "# Function decoators\n",
    "- 데코레이터에 철학\n",
    "- 파이썬은 first class object : 함수 내부와 외부는 다른 영역이다\n",
    "- 데코레이터는 다른 함수를 argument로 만듬 "
   ]
  },
  {
   "cell_type": "code",
   "execution_count": 8,
   "id": "a8cfeebc",
   "metadata": {},
   "outputs": [
    {
     "name": "stdout",
     "output_type": "stream",
     "text": [
      "Alex\n",
      "\n",
      "Start\n",
      "Alex\n",
      "End\n"
     ]
    }
   ],
   "source": [
    "# A decorator function takes another function as argument, wraps its behaviour inside\n",
    "# an inner function, and returns the wrapped function.\n",
    "def start_end_decorator(func):\n",
    "    \n",
    "    def wrapper(): # wrapper란 다른 함수를 받아오는 부분\n",
    "        print('Start')\n",
    "        func()\n",
    "        print('End')\n",
    "    return wrapper\n",
    "\n",
    "def print_name():\n",
    "    print('Alex')\n",
    "    \n",
    "print_name()\n",
    "\n",
    "print()\n",
    "\n",
    "# Now wrap the function by passing it as argument to the decorator function\n",
    "# and asign it to itself -> Our function has extended behaviour!\n",
    "print_name = start_end_decorator(print_name)\n",
    "print_name()"
   ]
  },
  {
   "cell_type": "markdown",
   "id": "62505df7",
   "metadata": {},
   "source": [
    "# 데코레이터 신텍스\n",
    "- wrapper를 쓰는 데신 선언을 먼저 함으로서 wrapper의 기능을 해준다"
   ]
  },
  {
   "cell_type": "code",
   "execution_count": 7,
   "id": "fc9ee26d",
   "metadata": {},
   "outputs": [
    {
     "name": "stdout",
     "output_type": "stream",
     "text": [
      "Start\n",
      "End\n"
     ]
    }
   ],
   "source": [
    "@start_end_decorator\n",
    "def print_name():\n",
    "    print('Alex')\n",
    "    \n",
    "print_name()"
   ]
  },
  {
   "cell_type": "markdown",
   "id": "452d083d",
   "metadata": {},
   "source": [
    "# function arguments \n",
    "- 래핑을 할 떄 주의점\n",
    "- 감싸고 싶은 함수가 input 파라미터가 있는 경우 wrapping하게 되면 \n",
    "- 우리의 함수에 변수가 어떻게 들어올지 모름으로 typeerror를 뿜게 됨\n",
    "- 그래서 우리는 *arg, **kwargs를 넣어준다"
   ]
  },
  {
   "cell_type": "code",
   "execution_count": 14,
   "id": "d78f0296",
   "metadata": {},
   "outputs": [
    {
     "name": "stdout",
     "output_type": "stream",
     "text": [
      "Start\n",
      "End\n",
      "None\n"
     ]
    }
   ],
   "source": [
    "def start_end_decorator_2(func):\n",
    "    \n",
    "    def wrapper(*args, **kwargs):\n",
    "        print('Start')\n",
    "        func(*args, **kwargs)\n",
    "        print('End')\n",
    "    return wrapper\n",
    "\n",
    "@start_end_decorator_2\n",
    "def add_5(x):\n",
    "    return x + 5\n",
    "\n",
    "result = add_5(10)\n",
    "print(result)"
   ]
  },
  {
   "cell_type": "markdown",
   "id": "b60d29a5",
   "metadata": {},
   "source": [
    "# Return value"
   ]
  },
  {
   "cell_type": "markdown",
   "id": "3a15769c",
   "metadata": {},
   "source": [
    "- 위에 예제에서 return을 정의 하지 않았음으로 print시 none이 나옴"
   ]
  },
  {
   "cell_type": "code",
   "execution_count": 19,
   "id": "46be9d95",
   "metadata": {},
   "outputs": [
    {
     "name": "stdout",
     "output_type": "stream",
     "text": [
      "Start\n",
      "End\n",
      "15\n"
     ]
    }
   ],
   "source": [
    "def start_end_decorator_3(func):\n",
    "    \n",
    "    def wrapper(*args, **kwargs):\n",
    "        print('Start')\n",
    "        result = func(*args, **kwargs)\n",
    "        print('End')\n",
    "        return result\n",
    "    return wrapper\n",
    "\n",
    "@start_end_decorator_3\n",
    "def add_5(x):\n",
    "    return x + 5\n",
    "\n",
    "result = add_5(10)\n",
    "print(result)"
   ]
  },
  {
   "cell_type": "markdown",
   "id": "3758e0af",
   "metadata": {},
   "source": [
    "# function identity?"
   ]
  },
  {
   "cell_type": "code",
   "execution_count": 20,
   "id": "161243e2",
   "metadata": {},
   "outputs": [
    {
     "name": "stdout",
     "output_type": "stream",
     "text": [
      "wrapper\n",
      "Help on function wrapper in module __main__:\n",
      "\n",
      "wrapper(*args, **kwargs)\n",
      "\n"
     ]
    }
   ],
   "source": [
    "print(add_5.__name__)\n",
    "help(add_5)"
   ]
  },
  {
   "cell_type": "code",
   "execution_count": 21,
   "id": "db560728",
   "metadata": {},
   "outputs": [
    {
     "name": "stdout",
     "output_type": "stream",
     "text": [
      "add_5\n",
      "Help on function add_5 in module __main__:\n",
      "\n",
      "add_5(x)\n",
      "\n"
     ]
    }
   ],
   "source": [
    "def add_5(x):\n",
    "    return x + 5\n",
    "\n",
    "print(add_5.__name__)\n",
    "help(add_5)"
   ]
  },
  {
   "cell_type": "markdown",
   "id": "4bec0534",
   "metadata": {},
   "source": [
    "# 문제점 "
   ]
  },
  {
   "cell_type": "markdown",
   "id": "7664f3af",
   "metadata": {},
   "source": [
    "- wrapper가 help에서 나오게 되고 안에 감싸져 있는 함수에 대한 정보는 없다\n",
    "- functools.wraps 데코레이터를통해 안에 감싸져있는 원본 함수 정보를 보존해야함"
   ]
  },
  {
   "cell_type": "code",
   "execution_count": 24,
   "id": "0da9523e",
   "metadata": {},
   "outputs": [
    {
     "name": "stdout",
     "output_type": "stream",
     "text": [
      "Start\n",
      "End\n",
      "15\n",
      "add_5\n",
      "Help on function add_5 in module __main__:\n",
      "\n",
      "add_5(x)\n",
      "\n"
     ]
    }
   ],
   "source": [
    "import functools\n",
    "def start_end_decorator_4(func):\n",
    "    \n",
    "    @functools.wraps(func)\n",
    "    def wrapper(*args, **kwargs):\n",
    "        print('Start')\n",
    "        result = func(*args, **kwargs)\n",
    "        print('End')\n",
    "        return result\n",
    "    return wrapper\n",
    "\n",
    "@start_end_decorator_4\n",
    "def add_5(x):\n",
    "    return x + 5\n",
    "result = add_5(10)\n",
    "\n",
    "print(result)\n",
    "print(add_5.__name__)\n",
    "help(add_5)"
   ]
  },
  {
   "cell_type": "markdown",
   "id": "4dc717a3",
   "metadata": {},
   "source": [
    "# 데코레이터 template"
   ]
  },
  {
   "cell_type": "code",
   "execution_count": 25,
   "id": "3f7ae662",
   "metadata": {},
   "outputs": [],
   "source": [
    "import functools\n",
    "\n",
    "def my_decorator(func):\n",
    "    @functools.wraps(func)\n",
    "    def wrapper(*args, **kwargs):\n",
    "        # Do something before\n",
    "        result = func(*args, **kwargs)\n",
    "        # Do something after\n",
    "        return result\n",
    "    return wrapper"
   ]
  },
  {
   "cell_type": "markdown",
   "id": "51c123fc",
   "metadata": {},
   "source": [
    "# Decorator function arguments"
   ]
  },
  {
   "cell_type": "code",
   "execution_count": 26,
   "id": "a902652c",
   "metadata": {},
   "outputs": [
    {
     "name": "stdout",
     "output_type": "stream",
     "text": [
      "Hello Alex\n",
      "Hello Alex\n",
      "Hello Alex\n"
     ]
    }
   ],
   "source": [
    "def repeat(num_times):\n",
    "    def decorator_repeat(func):\n",
    "        \n",
    "        @functools.wraps(func)\n",
    "        \n",
    "        def wrapper(*args, **kwargs):\n",
    "            for _ in range(num_times):\n",
    "                result = func(*args, **kwargs)\n",
    "            return result\n",
    "        \n",
    "        return wrapper\n",
    "    return decorator_repeat\n",
    "\n",
    "@repeat(num_times=3)\n",
    "def greet(name):\n",
    "    print(f\"Hello {name}\")\n",
    "    \n",
    "greet('Alex')"
   ]
  },
  {
   "cell_type": "markdown",
   "id": "065444c7",
   "metadata": {},
   "source": [
    "# Nested Decorators"
   ]
  },
  {
   "cell_type": "code",
   "execution_count": 29,
   "id": "ab174a3d",
   "metadata": {},
   "outputs": [],
   "source": [
    "# import functools\n",
    "# def start_end_decorator_4(func):\n",
    "    \n",
    "#     @functools.wraps(func)\n",
    "#     def wrapper(*args, **kwargs):\n",
    "#         print('Start')\n",
    "#         result = func(*args, **kwargs)\n",
    "#         print('End')\n",
    "#         return result\n",
    "#     return wrapper"
   ]
  },
  {
   "cell_type": "code",
   "execution_count": 37,
   "id": "941b3aa3",
   "metadata": {},
   "outputs": [
    {
     "name": "stdout",
     "output_type": "stream",
     "text": [
      "Life is too short\n",
      "'Life is too short'\n"
     ]
    }
   ],
   "source": [
    "a = \"Life is too short\"\n",
    "print(str(a)) # 직관적으로 사용자가 보기 쉽도록 \n",
    "print(repr(a)) # 문자열로 객체를 다시 생성"
   ]
  },
  {
   "cell_type": "code",
   "execution_count": 39,
   "id": "c8b7db19",
   "metadata": {},
   "outputs": [],
   "source": [
    "import datetime"
   ]
  },
  {
   "cell_type": "code",
   "execution_count": 43,
   "id": "8790a1af",
   "metadata": {},
   "outputs": [
    {
     "name": "stdout",
     "output_type": "stream",
     "text": [
      "datetime.datetime(2017, 9, 27, 0, 0)\n",
      "2017-09-27 00:00:00\n"
     ]
    }
   ],
   "source": [
    "a = datetime.datetime(2017, 9, 27)\n",
    "b = repr(a)\n",
    "c = str(a)\n",
    "eval(b)\n",
    "print(b)\n",
    "print(c)"
   ]
  },
  {
   "cell_type": "code",
   "execution_count": 46,
   "id": "b52f459c",
   "metadata": {
    "scrolled": true
   },
   "outputs": [
    {
     "name": "stdout",
     "output_type": "stream",
     "text": [
      "[]\n",
      "[\"name='Alex'\"]\n",
      "name='Alex'\n",
      "Calling say_hello(name='Alex')\n",
      "Start\n",
      "Hello Alex\n",
      "End\n",
      "'say_hello' returned 'Hello Alex'\n"
     ]
    },
    {
     "data": {
      "text/plain": [
       "'Hello Alex'"
      ]
     },
     "execution_count": 46,
     "metadata": {},
     "output_type": "execute_result"
    }
   ],
   "source": [
    "# a decorator function that prints debug information about the wrapped function\n",
    "def debug(func):\n",
    "    @functools.wraps(func)\n",
    "    \n",
    "    def wrapper(*args, **kwargs):\n",
    "        args_repr = [repr(a) for a in args]\n",
    "        kwargs_repr = [f\"{k}={v!r}\" for k, v in kwargs.items()]\n",
    "        print(args_repr)\n",
    "        print(kwargs_repr)\n",
    "        \n",
    "        signature = \", \".join(args_repr + kwargs_repr)\n",
    "        print(signature)\n",
    "        \n",
    "        print(f\"Calling {func.__name__}({signature})\")\n",
    "        result = func(*args, **kwargs)\n",
    "        \n",
    "        print(f\"{func.__name__!r} returned {result!r}\")\n",
    "        return result\n",
    "    return wrapper\n",
    "\n",
    "@debug\n",
    "@start_end_decorator_4\n",
    "def say_hello(name):\n",
    "    greeting = f'Hello {name}'\n",
    "    print(greeting)\n",
    "    return greeting\n",
    "\n",
    "# now `debug` is executed first and calls `@start_end_decorator_4`, which then calls `say_hello`\n",
    "say_hello(name='Alex')"
   ]
  },
  {
   "cell_type": "markdown",
   "id": "1eab0e54",
   "metadata": {},
   "source": [
    "# Class decorators"
   ]
  },
  {
   "cell_type": "markdown",
   "id": "42550fed",
   "metadata": {},
   "source": [
    "- class에서도 데코레이터를 사용할수 있는데\n",
    "- `__call__()` method 에서 사용 가능하다\n",
    "- wrapper()와 동일한 기능을 한다\n",
    "\n",
    "- `functools.update_wrapper()` 을 `functools.wraps` 사용해야 함수 정보를 살릴수 있음"
   ]
  },
  {
   "cell_type": "code",
   "execution_count": 50,
   "id": "e3e094e4",
   "metadata": {},
   "outputs": [
    {
     "name": "stdout",
     "output_type": "stream",
     "text": [
      "Call 1 of 'say_hello'\n",
      "Hello!\n",
      "Call 2 of 'say_hello'\n",
      "Hello!\n"
     ]
    }
   ],
   "source": [
    "import functools\n",
    "\n",
    "class CountCalls:\n",
    "    # the init needs to have the func as argument and stores it\n",
    "    def __init__(self, func):\n",
    "        functools.update_wrapper(self, func)\n",
    "        self.func = func\n",
    "        self.num_calls = 0\n",
    "    \n",
    "    # extend functionality, execute function, and return the result\n",
    "    def __call__(self, *args, **kwargs):\n",
    "        self.num_calls += 1\n",
    "        print(f\"Call {self.num_calls} of {self.func.__name__!r}\")\n",
    "        return self.func(*args, **kwargs)\n",
    "\n",
    "@CountCalls\n",
    "def say_hello(num):\n",
    "    print(\"Hello!\")\n",
    "    \n",
    "say_hello(5)\n",
    "say_hello(5)"
   ]
  },
  {
   "cell_type": "markdown",
   "id": "fd48791c",
   "metadata": {},
   "source": [
    "# decorator가 쓰이는 이유들\n",
    "- time.sleep()을 쓸떄\n",
    "- Cache return values for memorizaition\n",
    "- Add information or update a state"
   ]
  },
  {
   "cell_type": "code",
   "execution_count": 1,
   "id": "1bbf78b4",
   "metadata": {},
   "outputs": [],
   "source": [
    "from functools import lru_cache\n",
    "\n",
    "@lru_cache(maxsize=None)\n",
    "def fib(n):\n",
    "    if n < 2:\n",
    "        return n\n",
    "    return fib(n-1) + fib(n-2)"
   ]
  },
  {
   "cell_type": "code",
   "execution_count": 2,
   "id": "7f73ab33",
   "metadata": {
    "scrolled": true
   },
   "outputs": [
    {
     "name": "stdout",
     "output_type": "stream",
     "text": [
      "[0, 1, 1, 2, 3, 5, 8, 13, 21, 34, 55, 89, 144, 233, 377, 610]\n"
     ]
    }
   ],
   "source": [
    "print([fib(n) for n in range(16)])"
   ]
  },
  {
   "cell_type": "code",
   "execution_count": 53,
   "id": "1ea7588b",
   "metadata": {
    "scrolled": true
   },
   "outputs": [
    {
     "name": "stdout",
     "output_type": "stream",
     "text": [
      "CacheInfo(hits=28, misses=16, maxsize=None, currsize=16)\n"
     ]
    }
   ],
   "source": [
    "print(fib.cache_info())"
   ]
  },
  {
   "cell_type": "code",
   "execution_count": 3,
   "id": "411ae546",
   "metadata": {},
   "outputs": [
    {
     "name": "stdout",
     "output_type": "stream",
     "text": [
      "746 ns ± 3.56 ns per loop (mean ± std. dev. of 7 runs, 1,000,000 loops each)\n"
     ]
    }
   ],
   "source": [
    "%%timeit\n",
    "([fib(n) for n in range(16)])"
   ]
  },
  {
   "cell_type": "code",
   "execution_count": 5,
   "id": "38e167dd",
   "metadata": {},
   "outputs": [],
   "source": [
    "import functools\n",
    "\n",
    "@functools.lru_cache(maxsize=128)\n",
    "def fibonacci(n):\n",
    "    if n == 0:\n",
    "        return 0\n",
    "    elif n == 1:\n",
    "        return 1\n",
    "    return fibonacci(n - 1) + fibonacci(n - 2)"
   ]
  },
  {
   "cell_type": "code",
   "execution_count": 7,
   "id": "7101e519",
   "metadata": {},
   "outputs": [
    {
     "data": {
      "text/plain": [
       "5.49579999997718e-05"
      ]
     },
     "execution_count": 7,
     "metadata": {},
     "output_type": "execute_result"
    }
   ],
   "source": [
    "import timeit\n",
    "timeit.timeit('fibonacci(35)', globals=globals(), number=1)"
   ]
  },
  {
   "cell_type": "code",
   "execution_count": 8,
   "id": "bf8732b9",
   "metadata": {},
   "outputs": [
    {
     "data": {
      "text/plain": [
       "3.5409999981084184e-06"
      ]
     },
     "execution_count": 8,
     "metadata": {},
     "output_type": "execute_result"
    }
   ],
   "source": [
    "timeit.timeit('fibonacci(35)', globals=globals(), number=1)"
   ]
  },
  {
   "cell_type": "code",
   "execution_count": 9,
   "id": "4c4940f4",
   "metadata": {},
   "outputs": [],
   "source": [
    "from functools import cache\n",
    "\n",
    "def fetch_user(user_id):\n",
    "    print(f\"DB에서 아이디가 {user_id}인 사용자 정보를 읽어오고 있습니다...\")\n",
    "    return {\n",
    "        \"userId\": user_id,\n",
    "        \"email\": f\"{user_id}@test.com\",\n",
    "        \"password\": \"test1234\"\n",
    "    }\n",
    "\n",
    "@cache\n",
    "def get_user(user_id):\n",
    "    return fetch_user(user_id)\n"
   ]
  },
  {
   "cell_type": "code",
   "execution_count": 10,
   "id": "1b011a34",
   "metadata": {},
   "outputs": [
    {
     "name": "stdout",
     "output_type": "stream",
     "text": [
      "DB에서 아이디가 B02인 사용자 정보를 읽어오고 있습니다...\n",
      "DB에서 아이디가 A01인 사용자 정보를 읽어오고 있습니다...\n",
      "DB에서 아이디가 C03인 사용자 정보를 읽어오고 있습니다...\n"
     ]
    }
   ],
   "source": [
    "from random import choice\n",
    "\n",
    "for i in range(10):\n",
    "    get_user(user_id = choice([\"A01\", \"B02\", \"C03\"]))"
   ]
  },
  {
   "cell_type": "code",
   "execution_count": 14,
   "id": "38c8613c",
   "metadata": {},
   "outputs": [],
   "source": [
    "def get_user(user_id):\n",
    "    return fetch_user(user_id)"
   ]
  },
  {
   "cell_type": "code",
   "execution_count": 15,
   "id": "e0782420",
   "metadata": {},
   "outputs": [
    {
     "name": "stdout",
     "output_type": "stream",
     "text": [
      "DB에서 아이디가 B02인 사용자 정보를 읽어오고 있습니다...\n",
      "DB에서 아이디가 A01인 사용자 정보를 읽어오고 있습니다...\n",
      "DB에서 아이디가 C03인 사용자 정보를 읽어오고 있습니다...\n",
      "DB에서 아이디가 B02인 사용자 정보를 읽어오고 있습니다...\n",
      "DB에서 아이디가 A01인 사용자 정보를 읽어오고 있습니다...\n",
      "DB에서 아이디가 B02인 사용자 정보를 읽어오고 있습니다...\n",
      "DB에서 아이디가 B02인 사용자 정보를 읽어오고 있습니다...\n",
      "DB에서 아이디가 C03인 사용자 정보를 읽어오고 있습니다...\n",
      "DB에서 아이디가 B02인 사용자 정보를 읽어오고 있습니다...\n",
      "DB에서 아이디가 C03인 사용자 정보를 읽어오고 있습니다...\n"
     ]
    }
   ],
   "source": [
    "from random import choice\n",
    "\n",
    "for i in range(10):\n",
    "    get_user(user_id = choice([\"A01\", \"B02\", \"C03\"]))"
   ]
  },
  {
   "cell_type": "markdown",
   "id": "390ef868",
   "metadata": {},
   "source": [
    "# 똒똒 하게 time.sleep 하기"
   ]
  },
  {
   "cell_type": "code",
   "execution_count": 1,
   "id": "7491f15f",
   "metadata": {},
   "outputs": [],
   "source": [
    "import time\n",
    "import urllib.request\n",
    "import urllib.error\n",
    "\n",
    "def sleep(timeout, retry=3):\n",
    "    def the_real_decorator(function):\n",
    "        def wrapper(*args, **kwargs):\n",
    "            retries = 0\n",
    "            while retries < retry:\n",
    "                try:\n",
    "                    value = function(*args, **kwargs)\n",
    "                    if value is None:\n",
    "                        return\n",
    "                except:\n",
    "                    print(f'Sleeping for {timeout} seconds')\n",
    "                    time.sleep(timeout)\n",
    "                    retries += 1\n",
    "        return wrapper\n",
    "    return the_real_decorator"
   ]
  },
  {
   "cell_type": "code",
   "execution_count": 2,
   "id": "319e013d",
   "metadata": {},
   "outputs": [
    {
     "name": "stdout",
     "output_type": "stream",
     "text": [
      "HTTPError: 404 for http://www.google.com/py\n",
      "Sleeping for 3 seconds\n",
      "HTTPError: 404 for http://www.google.com/py\n",
      "Sleeping for 3 seconds\n",
      "HTTPError: 404 for http://www.google.com/py\n",
      "Sleeping for 3 seconds\n"
     ]
    }
   ],
   "source": [
    "@sleep(3)\n",
    "def uptime_bot(url):\n",
    "    try:\n",
    "        conn = urllib.request.urlopen(url)\n",
    "    except urllib.error.HTTPError as e:\n",
    "        # Email admin / log\n",
    "        print(f'HTTPError: {e.code} for {url}')\n",
    "        # Re-raise the exception for the decorator\n",
    "        raise urllib.error.HTTPError\n",
    "    except urllib.error.URLError as e:\n",
    "        # Email admin / log\n",
    "        print(f'URLError: {e.code} for {url}')\n",
    "        # Re-raise the exception for the decorator\n",
    "        raise urllib.error.URLError\n",
    "    else:\n",
    "        # Website is up\n",
    "        print(f'{url} is up')\n",
    "\n",
    "if __name__ == '__main__':\n",
    "    url = 'http://www.google.com/py'\n",
    "    uptime_bot(url)"
   ]
  },
  {
   "cell_type": "markdown",
   "id": "07a46726",
   "metadata": {},
   "source": [
    "# machine learning"
   ]
  },
  {
   "cell_type": "code",
   "execution_count": 5,
   "id": "9e5f89d5",
   "metadata": {},
   "outputs": [],
   "source": [
    "from sklearn import datasets\n",
    "import pandas as pd\n",
    "iris = datasets.load_iris(as_frame = True)\n",
    "\n",
    "y = iris['target']\n",
    "x = iris['data']"
   ]
  },
  {
   "cell_type": "code",
   "execution_count": 6,
   "id": "1e52e11b",
   "metadata": {},
   "outputs": [
    {
     "name": "stdout",
     "output_type": "stream",
     "text": [
      "0.9473684210526315\n",
      "0.9473684210526315\n",
      "0.9473684210526315\n"
     ]
    }
   ],
   "source": [
    "from sklearn.ensemble import RandomForestClassifier, AdaBoostClassifier, ExtraTreesClassifier\n",
    "from sklearn.model_selection import train_test_split\n",
    "from sklearn.metrics import accuracy_score\n",
    "\n",
    "xtrain, xtest, ytrain, ytest = train_test_split(x, y)\n",
    "\n",
    "rf = RandomForestClassifier()\n",
    "rf.fit(xtrain, ytrain)\n",
    "y_pred = rf.predict(xtest)\n",
    "print(accuracy_score(ytest, y_pred))\n",
    "\n",
    "\n",
    "\n",
    "rf = AdaBoostClassifier()\n",
    "rf.fit(xtrain, ytrain)\n",
    "y_pred = rf.predict(xtest)\n",
    "print(accuracy_score(ytest, y_pred))\n",
    "\n",
    "\n",
    "rf = ExtraTreesClassifier()\n",
    "rf.fit(xtrain, ytrain)\n",
    "y_pred = rf.predict(xtest)\n",
    "print(accuracy_score(ytest, y_pred))\n"
   ]
  },
  {
   "cell_type": "code",
   "execution_count": 35,
   "id": "e18fc9a6",
   "metadata": {},
   "outputs": [],
   "source": [
    "from functools import wraps \n",
    "\n",
    "def model_registry(function): \n",
    "    @wraps(function)\n",
    "    def wrapped(*args, **kwargs): \n",
    "        score, prediction, fmodel = function(*args, **kwargs)\n",
    "        registry[args[0].__name__] = {'score': score, 'prediction': prediction} \n",
    "        print(f\"{args[0].__name__} =  'score': {score}\")\n",
    "        return score, prediction, fmodel\n",
    "    return wrapped"
   ]
  },
  {
   "cell_type": "code",
   "execution_count": 36,
   "id": "fe247e82",
   "metadata": {},
   "outputs": [],
   "source": [
    "@model_registry\n",
    "def fitter(model, xtrain, xtest, ytrain, ytest): \n",
    "    md = model()\n",
    "    md.fit(xtrain, ytrain)\n",
    "    y_pred = md.predict(xtest)\n",
    "    return accuracy_score(ytest, y_pred), y_pred, md"
   ]
  },
  {
   "cell_type": "code",
   "execution_count": 37,
   "id": "57701270",
   "metadata": {},
   "outputs": [
    {
     "name": "stdout",
     "output_type": "stream",
     "text": [
      "RandomForestClassifier =  'score': 0.9736842105263158\n",
      "ExtraTreesClassifier =  'score': 0.9473684210526315\n",
      "AdaBoostClassifier =  'score': 0.9473684210526315\n"
     ]
    }
   ],
   "source": [
    "registry = {}\n",
    "\n",
    "score, prediction, fmodel = fitter(RandomForestClassifier, xtrain, xtest, ytrain, ytest)\n",
    "score, prediction, fmodel = fitter(ExtraTreesClassifier, xtrain, xtest, ytrain, ytest)\n",
    "score, prediction, fmodel = fitter(AdaBoostClassifier, xtrain, xtest, ytrain, ytest)"
   ]
  },
  {
   "cell_type": "code",
   "execution_count": null,
   "id": "8a8be2a9",
   "metadata": {},
   "outputs": [],
   "source": []
  }
 ],
 "metadata": {
  "kernelspec": {
   "display_name": "dask",
   "language": "python",
   "name": "dask_1"
  },
  "language_info": {
   "codemirror_mode": {
    "name": "ipython",
    "version": 3
   },
   "file_extension": ".py",
   "mimetype": "text/x-python",
   "name": "python",
   "nbconvert_exporter": "python",
   "pygments_lexer": "ipython3",
   "version": "3.9.13"
  }
 },
 "nbformat": 4,
 "nbformat_minor": 5
}
