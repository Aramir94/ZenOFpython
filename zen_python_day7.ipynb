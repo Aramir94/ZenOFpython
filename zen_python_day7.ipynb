{
 "cells": [
  {
   "cell_type": "markdown",
   "id": "40dd7f94",
   "metadata": {},
   "source": [
    "# ITERTOOLS\n",
    "- 이터레이터들을 관리 하기 위한 모듈 집합\n",
    "- 이터레이터랑 -> for loop 에 들어가서 사용할수 있는 데이터 타입들\n",
    "- 가장 흔한 데이터 타입은 리스트"
   ]
  },
  {
   "cell_type": "markdown",
   "id": "8cd2a5ff",
   "metadata": {},
   "source": [
    "# PRODUCT()\n",
    "- 데카르트 곱을 하게 해주는 모듈"
   ]
  },
  {
   "cell_type": "markdown",
   "id": "48807097",
   "metadata": {},
   "source": [
    "<img src='https://mblogthumb-phinf.pstatic.net/MjAxOTAzMjJfNjQg/MDAxNTUzMTgyNjMyODc0.COyHm_50YckCEMqRYorVcodam8RtJGEt-FP_LvYlTGcg.rsSusMVuBKXwMwqjv5WqA4Or5HpdXBhPMNlmc8AnbS0g.PNG.sw4r/Screen_Shot_2019-03-21_at_15.37.01.png?type=w800'>"
   ]
  },
  {
   "cell_type": "markdown",
   "id": "d4aab35b",
   "metadata": {},
   "source": [
    "<img src='https://mblogthumb-phinf.pstatic.net/MjAxOTAzMjJfNjEg/MDAxNTUzMTgyMjY2MzQ0.gotw_xQeVXUOeMbxXNUYu42ewz_E2TRpfSz_jJnYNPYg.E-twaOBEfPsKZcMqdyWXI9DI2E08zZ9-d8fOHV70odIg.PNG.sw4r/Screen_Shot_2019-03-21_at_15.30.48.png?type=w800'>"
   ]
  },
  {
   "cell_type": "code",
   "execution_count": 2,
   "id": "ae297cc6",
   "metadata": {},
   "outputs": [
    {
     "name": "stdout",
     "output_type": "stream",
     "text": [
      "[(1, 3), (1, 4), (2, 3), (2, 4)]\n",
      "[(1, 3, 1, 3), (1, 3, 2, 3), (2, 3, 1, 3), (2, 3, 2, 3)]\n"
     ]
    }
   ],
   "source": [
    "from itertools import product\n",
    "\n",
    "prod = product([1, 2], [3, 4])\n",
    "print(list(prod)) # note that we convert the iterator to a list for printing\n",
    "\n",
    "# to allow the product of an iterable with itself, specify the number of repetitions \n",
    "prod = product([1, 2], [3], repeat=2)\n",
    "print(list(prod)) # note that we convert the iterator to a list for printing"
   ]
  },
  {
   "cell_type": "markdown",
   "id": "13b3c587",
   "metadata": {},
   "source": [
    "## 순열 조합 차이 (알고리즘)\n",
    "- 순서가 있고 없고 -> 순열 순서 중요, 조합 순서 안 중요 "
   ]
  },
  {
   "cell_type": "markdown",
   "id": "9bd845c7",
   "metadata": {},
   "source": [
    "# permutations() : 순열"
   ]
  },
  {
   "cell_type": "markdown",
   "id": "7085b57f",
   "metadata": {},
   "source": [
    "- iterable with all possible orderings and no repeadted "
   ]
  },
  {
   "cell_type": "code",
   "execution_count": 6,
   "id": "18b3424d",
   "metadata": {},
   "outputs": [
    {
     "name": "stdout",
     "output_type": "stream",
     "text": [
      "[(1, 2, 3), (1, 3, 2), (2, 1, 3), (2, 3, 1), (3, 1, 2), (3, 2, 1)]\n",
      "[(1, 2), (1, 3), (1, 4), (2, 1), (2, 3), (2, 4), (3, 1), (3, 2), (3, 4), (4, 1), (4, 2), (4, 3)]\n"
     ]
    }
   ],
   "source": [
    "from itertools import permutations\n",
    "\n",
    "perm = permutations([1, 2, 3])\n",
    "print(list(perm))\n",
    "\n",
    "# optional: the length of the permutation tuples\n",
    "perm = permutations([1, 2, 3, 4], 2)\n",
    "print(list(perm))"
   ]
  },
  {
   "cell_type": "markdown",
   "id": "ec067f8f",
   "metadata": {},
   "source": [
    "# combinations() and combinations_with_replacement() : 조합"
   ]
  },
  {
   "cell_type": "markdown",
   "id": "d74e29a9",
   "metadata": {},
   "source": [
    "*combinations()* does not allow repeated elements : 중복 허용을 하고\n",
    "*combinations_with_replacement()* does. : 중복 허용을 안한다"
   ]
  },
  {
   "cell_type": "code",
   "execution_count": 5,
   "id": "e10377d6",
   "metadata": {},
   "outputs": [
    {
     "name": "stdout",
     "output_type": "stream",
     "text": [
      "[(1, 2), (1, 3), (1, 4), (2, 3), (2, 4), (3, 4)]\n",
      "[(1, 1), (1, 2), (1, 3), (1, 4), (2, 2), (2, 3), (2, 4), (3, 3), (3, 4), (4, 4)]\n"
     ]
    }
   ],
   "source": [
    "from itertools import combinations, combinations_with_replacement\n",
    "\n",
    "# the second argument is mandatory and specifies the length of the output tuples.\n",
    "comb = combinations([1, 2, 3, 4], 2)\n",
    "print(list(comb))\n",
    "\n",
    "comb = combinations_with_replacement([1, 2, 3, 4], 2)\n",
    "print(list(comb))"
   ]
  },
  {
   "cell_type": "markdown",
   "id": "0dce2793",
   "metadata": {},
   "source": [
    "# accumulate() \n",
    "- 합을 축적해서 보여준다"
   ]
  },
  {
   "cell_type": "code",
   "execution_count": 8,
   "id": "17ac7522",
   "metadata": {},
   "outputs": [
    {
     "name": "stdout",
     "output_type": "stream",
     "text": [
      "[1, 3, 6, 10]\n",
      "[1, 2, 6, 24]\n",
      "[1, 5, 5, 6, 6, 6]\n"
     ]
    }
   ],
   "source": [
    "from itertools import accumulate\n",
    "\n",
    "# return accumulated sums\n",
    "acc = accumulate([1,2,3,4])\n",
    "print(list(acc))\n",
    "\n",
    "# other possible functions are possible\n",
    "import operator\n",
    "acc = accumulate([1,2,3,4], func=operator.mul)\n",
    "print(list(acc))\n",
    "\n",
    "acc = accumulate([1,5,2,6,3,4], func=max)\n",
    "print(list(acc))"
   ]
  },
  {
   "cell_type": "markdown",
   "id": "2a9173ea",
   "metadata": {},
   "source": [
    "# groupby()"
   ]
  },
  {
   "cell_type": "markdown",
   "id": "f7f05031",
   "metadata": {},
   "source": [
    "- 정해진 조건에 따른 true, false 값을 그룹해서\n",
    "- 그 필터에 따른 값 보여주기"
   ]
  },
  {
   "cell_type": "code",
   "execution_count": 9,
   "id": "f42cff37",
   "metadata": {},
   "outputs": [
    {
     "name": "stdout",
     "output_type": "stream",
     "text": [
      "True [1, 2]\n",
      "False [3, 4]\n",
      "True ['hi', 'nice']\n",
      "False ['hello', 'cool']\n",
      "25 [{'name': 'Tim', 'age': 25}, {'name': 'Dan', 'age': 25}]\n",
      "27 [{'name': 'Lisa', 'age': 27}]\n",
      "28 [{'name': 'Claire', 'age': 28}]\n"
     ]
    }
   ],
   "source": [
    "from itertools import groupby\n",
    "\n",
    "# use a function as key\n",
    "def smaller_than_3(x):\n",
    "    return x < 3\n",
    "\n",
    "group_obj = groupby([1, 2, 3, 4], key=smaller_than_3)\n",
    "for key, group in group_obj:\n",
    "    print(key, list(group))\n",
    "    \n",
    "# or use a lamda expression, e.g. words with an 'i':\n",
    "group_obj = groupby([\"hi\", \"nice\", \"hello\", \"cool\"], key=lambda x: \"i\" in x)\n",
    "for key, group in group_obj:\n",
    "    print(key, list(group))\n",
    "    \n",
    "persons = [{'name': 'Tim', 'age': 25}, {'name': 'Dan', 'age': 25}, \n",
    "           {'name': 'Lisa', 'age': 27}, {'name': 'Claire', 'age': 28}]\n",
    "\n",
    "for key, group in groupby(persons, key=lambda x: x['age']):\n",
    "    print(key, list(group))"
   ]
  },
  {
   "cell_type": "markdown",
   "id": "843b663a",
   "metadata": {},
   "source": [
    "# Infinite iterators: count(), cycle(), repeat()"
   ]
  },
  {
   "cell_type": "code",
   "execution_count": 10,
   "id": "cc6d96a0",
   "metadata": {},
   "outputs": [
    {
     "name": "stdout",
     "output_type": "stream",
     "text": [
      "10\n",
      "11\n",
      "12\n",
      "13\n",
      "\n",
      "1\n",
      "2\n",
      "3\n",
      "1\n",
      "2\n",
      "3\n",
      "\n",
      "A\n",
      "A\n",
      "A\n"
     ]
    }
   ],
   "source": [
    "from itertools import count, cycle, repeat\n",
    "# count(x): count from x: x, x+1, x+2, x+3...\n",
    "for i in count(10):\n",
    "    print(i)\n",
    "    if  i >= 13:\n",
    "        break\n",
    "\n",
    "# cycle(iterable) : cycle infinitely through an iterable\n",
    "print(\"\")\n",
    "sum = 0\n",
    "for i in cycle([1, 2, 3]):\n",
    "    print(i)\n",
    "    sum += i\n",
    "    if sum >= 12:\n",
    "        break\n",
    "\n",
    "# repeat(x): repeat x infinitely or n times\n",
    "print(\"\")\n",
    "for i in repeat(\"A\", 3):\n",
    "    print(i)"
   ]
  },
  {
   "cell_type": "code",
   "execution_count": null,
   "id": "9b34e100",
   "metadata": {},
   "outputs": [],
   "source": []
  }
 ],
 "metadata": {
  "kernelspec": {
   "display_name": "dask",
   "language": "python",
   "name": "dask_1"
  },
  "language_info": {
   "codemirror_mode": {
    "name": "ipython",
    "version": 3
   },
   "file_extension": ".py",
   "mimetype": "text/x-python",
   "name": "python",
   "nbconvert_exporter": "python",
   "pygments_lexer": "ipython3",
   "version": "3.9.13"
  }
 },
 "nbformat": 4,
 "nbformat_minor": 5
}
