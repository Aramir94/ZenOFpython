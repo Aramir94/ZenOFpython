{
 "cells": [
  {
   "cell_type": "markdown",
   "id": "4d05612b",
   "metadata": {},
   "source": [
    "# Dictionaries\n",
    "- collection which is unordered (정렬이 놉)\n",
    "- collection of key-value pairs\n",
    "- 수정은 가능\n",
    "\n",
    "`my_dict = {\"name\":\"Max\", \"age\":28, \"city\":\"New York\"}`"
   ]
  },
  {
   "cell_type": "markdown",
   "id": "c3bcdfd9",
   "metadata": {},
   "source": [
    "# Create a dictionary"
   ]
  },
  {
   "cell_type": "code",
   "execution_count": 2,
   "id": "4b23e9b0",
   "metadata": {},
   "outputs": [
    {
     "name": "stdout",
     "output_type": "stream",
     "text": [
      "{'name': 'Max', 'age': 28, 'city': 'New York'}\n",
      "{'name': 'Lisa', 'age': 27, 'city': 'Boston'}\n"
     ]
    }
   ],
   "source": [
    "my_dict = {\"name\":\"Max\", \"age\":28, \"city\":\"New York\"}\n",
    "print(my_dict)\n",
    "\n",
    "# or use the dict constructor, note: no quotes necessary for keys\n",
    "my_dict_2 = dict(name=\"Lisa\", age=27, city=\"Boston\")\n",
    "print(my_dict_2)"
   ]
  },
  {
   "cell_type": "markdown",
   "id": "928fb3f4",
   "metadata": {},
   "source": [
    "# Access items\n",
    "- key 값으로 반응"
   ]
  },
  {
   "cell_type": "code",
   "execution_count": 3,
   "id": "94b290b1",
   "metadata": {},
   "outputs": [
    {
     "name": "stdout",
     "output_type": "stream",
     "text": [
      "Max\n"
     ]
    }
   ],
   "source": [
    "name_in_dict = my_dict[\"name\"]\n",
    "print(name_in_dict)"
   ]
  },
  {
   "cell_type": "markdown",
   "id": "0585f0c3",
   "metadata": {},
   "source": [
    "# Add and change items"
   ]
  },
  {
   "cell_type": "code",
   "execution_count": 4,
   "id": "95e8c8db",
   "metadata": {},
   "outputs": [
    {
     "name": "stdout",
     "output_type": "stream",
     "text": [
      "{'name': 'Max', 'age': 28, 'city': 'New York', 'email': 'max@xyz.com'}\n",
      "{'name': 'Max', 'age': 28, 'city': 'New York', 'email': 'coolmax@xyz.com'}\n"
     ]
    }
   ],
   "source": [
    "# add a new key\n",
    "my_dict[\"email\"] = \"max@xyz.com\"\n",
    "print(my_dict)\n",
    "\n",
    "# or overwrite the now existing key\n",
    "my_dict[\"email\"] = \"coolmax@xyz.com\"\n",
    "print(my_dict)"
   ]
  },
  {
   "cell_type": "markdown",
   "id": "68ae1628",
   "metadata": {},
   "source": [
    "# looping Dictionary"
   ]
  },
  {
   "cell_type": "code",
   "execution_count": 9,
   "id": "23ea6e45",
   "metadata": {},
   "outputs": [
    {
     "name": "stdout",
     "output_type": "stream",
     "text": [
      "name Max\n",
      "age 28\n",
      "city New York\n",
      "email coolmax@xyz.com\n",
      "email1 1\n",
      "--------------\n",
      "name\n",
      "age\n",
      "city\n",
      "email\n",
      "email1\n",
      "--------------\n",
      "Max\n",
      "28\n",
      "New York\n",
      "coolmax@xyz.com\n",
      "1\n",
      "--------------\n",
      "name Max\n",
      "age 28\n",
      "city New York\n",
      "email coolmax@xyz.com\n",
      "email1 1\n",
      "--------------\n"
     ]
    }
   ],
   "source": [
    "# loop over keys\n",
    "for key in my_dict:\n",
    "    print(key, my_dict[key])\n",
    "print('--------------')\n",
    "\n",
    "# loop over keys\n",
    "for key in my_dict.keys():\n",
    "    print(key)\n",
    "print('--------------')\n",
    "\n",
    "# loop over values\n",
    "for value in my_dict.values():\n",
    "    print(value)\n",
    "print('--------------')\n",
    "\n",
    "# loop over keys and values\n",
    "for key, value in my_dict.items():\n",
    "    print(key, value)\n",
    "print('--------------')"
   ]
  },
  {
   "cell_type": "markdown",
   "id": "977be653",
   "metadata": {},
   "source": [
    "# Copy a dictionary\n",
    "Be careful when copying references."
   ]
  },
  {
   "cell_type": "code",
   "execution_count": 10,
   "id": "0a9bd005",
   "metadata": {},
   "outputs": [
    {
     "name": "stdout",
     "output_type": "stream",
     "text": [
      "{'name': 'Lisa', 'age': 28, 'city': 'New York'}\n",
      "{'name': 'Lisa', 'age': 28, 'city': 'New York'}\n",
      "{'name': 'Lisa', 'age': 28, 'city': 'New York'}\n",
      "{'name': 'Max', 'age': 28, 'city': 'New York'}\n"
     ]
    }
   ],
   "source": [
    "dict_org = {\"name\":\"Max\", \"age\":28, \"city\":\"New York\"}\n",
    "\n",
    "# this just copies the reference to the dict, so be careful\n",
    "dict_copy = dict_org\n",
    "\n",
    "# now modifying the copy also affects the original\n",
    "dict_copy[\"name\"] = \"Lisa\"\n",
    "print(dict_copy)\n",
    "print(dict_org)\n",
    "\n",
    "# use copy(), or dict(x) to actually copy the dict\n",
    "dict_org = {\"name\":\"Max\", \"age\":28, \"city\":\"New York\"}\n",
    "\n",
    "dict_copy = dict_org.copy()\n",
    "# dict_copy = dict(dict_org)\n",
    "\n",
    "# now modifying the copy does not affect the original\n",
    "dict_copy[\"name\"] = \"Lisa\"\n",
    "print(dict_copy)\n",
    "print(dict_org)"
   ]
  },
  {
   "cell_type": "markdown",
   "id": "77961de9",
   "metadata": {},
   "source": [
    "# merge two dictionaries"
   ]
  },
  {
   "cell_type": "code",
   "execution_count": 11,
   "id": "ab4a4e54",
   "metadata": {},
   "outputs": [
    {
     "name": "stdout",
     "output_type": "stream",
     "text": [
      "{'name': 'Lisa', 'age': 27, 'email': 'max@xyz.com', 'city': 'Boston'}\n"
     ]
    }
   ],
   "source": [
    "# Use the update() method to merge 2 dicts\n",
    "# existing keys are overwritten, new keys are added\n",
    "my_dict = {\"name\":\"Max\", \"age\":28, \"email\":\"max@xyz.com\"}\n",
    "my_dict_2 = dict(name=\"Lisa\", age=27, city=\"Boston\")\n",
    "\n",
    "my_dict.update(my_dict_2)\n",
    "print(my_dict)"
   ]
  },
  {
   "cell_type": "markdown",
   "id": "e8758257",
   "metadata": {},
   "source": [
    "# Nested dictionaries\n",
    "- The values can also be container types (e.g. lists, tuples, dictionaries)."
   ]
  },
  {
   "cell_type": "code",
   "execution_count": 12,
   "id": "fdc81c59",
   "metadata": {},
   "outputs": [
    {
     "name": "stdout",
     "output_type": "stream",
     "text": [
      "{'dictA': {'name': 'Max', 'age': 28}, 'dictB': {'name': 'Alex', 'age': 25}}\n"
     ]
    }
   ],
   "source": [
    "my_dict_1 = {\"name\": \"Max\", \"age\": 28}\n",
    "my_dict_2 = {\"name\": \"Alex\", \"age\": 25}\n",
    "nested_dict = {\"dictA\": my_dict_1,\n",
    "               \"dictB\": my_dict_2}\n",
    "print(nested_dict)"
   ]
  },
  {
   "cell_type": "code",
   "execution_count": null,
   "id": "9c313cc1",
   "metadata": {},
   "outputs": [],
   "source": []
  }
 ],
 "metadata": {
  "kernelspec": {
   "display_name": "dask",
   "language": "python",
   "name": "dask_1"
  },
  "language_info": {
   "codemirror_mode": {
    "name": "ipython",
    "version": 3
   },
   "file_extension": ".py",
   "mimetype": "text/x-python",
   "name": "python",
   "nbconvert_exporter": "python",
   "pygments_lexer": "ipython3",
   "version": "3.9.13"
  }
 },
 "nbformat": 4,
 "nbformat_minor": 5
}
